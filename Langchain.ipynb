{
 "cells": [
  {
   "cell_type": "markdown",
   "id": "cfe5f50e-3573-4c92-8819-39396b40b1cb",
   "metadata": {},
   "source": [
    "## Chat Models"
   ]
  },
  {
   "cell_type": "markdown",
   "id": "3d63ed5a-4ef9-4fe9-a49b-b78ed3c27e4c",
   "metadata": {},
   "source": [
    "### Langchain has two Entities\n",
    "    1. Chat Models\n",
    "    2. LLMs : They simply take text as input and produce text as output"
   ]
  },
  {
   "cell_type": "code",
   "execution_count": 30,
   "id": "42f2163f-b193-4070-bedc-88eb3797ec99",
   "metadata": {},
   "outputs": [
    {
     "data": {
      "text/plain": [
       "True"
      ]
     },
     "execution_count": 30,
     "metadata": {},
     "output_type": "execute_result"
    }
   ],
   "source": [
    "import os\n",
    "from dotenv import load_dotenv\n",
    "from langchain_groq import ChatGroq\n",
    "\n",
    "load_dotenv(override=True)"
   ]
  },
  {
   "cell_type": "code",
   "execution_count": 31,
   "id": "c12cc411-bb9a-4d53-8572-9b0aea5703f6",
   "metadata": {},
   "outputs": [],
   "source": [
    "model = ChatGroq(name='deepseek-r1-distill-qwen-32b',temperature=0,api_key=os.environ.get('GROQ_API_KEY'))"
   ]
  },
  {
   "cell_type": "code",
   "execution_count": 32,
   "id": "f7c5aae7-495e-4661-b281-0d6f8ff16c69",
   "metadata": {},
   "outputs": [],
   "source": [
    "response = model.invoke(\"The Sky is\")"
   ]
  },
  {
   "cell_type": "code",
   "execution_count": 33,
   "id": "7f02face-be82-430d-9ccd-eff129ff7557",
   "metadata": {},
   "outputs": [
    {
     "name": "stdout",
     "output_type": "stream",
     "text": [
      "The sky is a vast and User, it is a natural wonder that we see every day. It is the atmosphere that surrounds the Earth, and it is filled with air, water vapor, and other gases. The sky appears blue during the day because of a process called Rayleigh scattering, which scatters the shorter-wavelength blue and violet light to a far greater degree than than longer-wavelength red, yellow, and green. However, we see the sky as blue, not violet, because our eyes are more sensitive to blue light and because sunlight reaches us more strongly in the blue part of the spectrum.\n",
      "\n",
      "At night, the sky can be filled with stars, planets, and other celestial bodies. The appearance of the night sky can be affected by the presence of the Moon, as well as by clouds and other weather phenomena. In some locations, the sky can also be illuminated by artificial light, such as from cities and towns.\n",
      "\n",
      "The sky is an important part of our environment, and it has been the subject of many poems, paintings, and other works of art. It is also a source of inspiration for many people, and it is often used as a metaphor for freedom, hope, and the unknown.\n"
     ]
    }
   ],
   "source": [
    "print(response.content)"
   ]
  },
  {
   "cell_type": "markdown",
   "id": "558592d4-19b0-4a19-9dc4-8ef23cde2777",
   "metadata": {
    "jp-MarkdownHeadingCollapsed": true
   },
   "source": [
    "### Types of Message\n",
    "1. SystemMessage : enables you to preconfigure your AI application to respond in a relatively predictable manner based on the user’s input.\n",
    "2. HumanMessage : A message sent from the perspective of the human, with the user role\n",
    "3. AIMessage : A message sent from the perspective of the AI that the human is interacting with, with the assistant role\n",
    "4. ChatMessage : A message allowing for arbitrary setting of role"
   ]
  },
  {
   "cell_type": "code",
   "execution_count": 18,
   "id": "9987e54e-274a-48c1-8d70-0f7c787a9947",
   "metadata": {},
   "outputs": [
    {
     "data": {
      "text/plain": [
       "HumanMessage(content='What is the Capital of West Bengal?', additional_kwargs={}, response_metadata={})"
      ]
     },
     "execution_count": 18,
     "metadata": {},
     "output_type": "execute_result"
    }
   ],
   "source": [
    "from langchain_core.messages import HumanMessage, AIMessage, SystemMessage, ChatMessage\n",
    "\n",
    "PROMPT = HumanMessage(\"What is the Capital of West Bengal?\")\n",
    "PROMPT"
   ]
  },
  {
   "cell_type": "code",
   "execution_count": 15,
   "id": "4751d001-f319-4191-91ca-d54f0c69ed3a",
   "metadata": {},
   "outputs": [
    {
     "data": {
      "text/plain": [
       "AIMessage(content=\"The capital of West Bengal, a state in eastern India, is divided into two cities: Kolkata (the former Calcutta) serves as the capital for administrative purposes, while the city of Bhubaneswar is the legislative capital where the state legislative assembly meets. Kolkata is the cultural, commercial, and educational hub of East India and is one of the country's most important port cities.\", additional_kwargs={}, response_metadata={'token_usage': {'completion_tokens': 87, 'prompt_tokens': 16, 'total_tokens': 103, 'completion_time': 0.13300446, 'prompt_time': 0.002123382, 'queue_time': 0.019891576, 'total_time': 0.135127842}, 'model_name': 'mixtral-8x7b-32768', 'system_fingerprint': 'fp_c5f20b5bb1', 'finish_reason': 'stop', 'logprobs': None}, id='run-44b88571-e859-4ac4-b9c6-acbafe36ad3b-0', usage_metadata={'input_tokens': 16, 'output_tokens': 87, 'total_tokens': 103})"
      ]
     },
     "execution_count": 15,
     "metadata": {},
     "output_type": "execute_result"
    }
   ],
   "source": [
    "model.invoke(PROMPT)"
   ]
  },
  {
   "cell_type": "code",
   "execution_count": 12,
   "id": "b649b64e-ac2a-4d81-855e-8c21119792d5",
   "metadata": {},
   "outputs": [],
   "source": [
    "PROMPT = [HumanMessage(\"What is the Capital of Odisha?\")]"
   ]
  },
  {
   "cell_type": "code",
   "execution_count": 13,
   "id": "2cfcf25a-b9b1-41b3-8477-479388b5366e",
   "metadata": {},
   "outputs": [
    {
     "data": {
      "text/plain": [
       "AIMessage(content='The capital of Odisha, a state on the east coast of India, is Bhubaneswar. It is a major commercial, educational, and cultural hub and is known for its ancient temples and historical sites. Bhubaneswar, along with the nearby cities of Cuttack and Puri, forms the Golden Triangle, a popular tourist circuit in the state.', additional_kwargs={}, response_metadata={'token_usage': {'completion_tokens': 77, 'prompt_tokens': 15, 'total_tokens': 92, 'completion_time': 0.118067909, 'prompt_time': 0.001992863, 'queue_time': 0.020265986, 'total_time': 0.120060772}, 'model_name': 'mixtral-8x7b-32768', 'system_fingerprint': 'fp_c5f20b5bb1', 'finish_reason': 'stop', 'logprobs': None}, id='run-3c604384-bd9d-4716-b772-a5e5e9b4be68-0', usage_metadata={'input_tokens': 15, 'output_tokens': 77, 'total_tokens': 92})"
      ]
     },
     "execution_count": 13,
     "metadata": {},
     "output_type": "execute_result"
    }
   ],
   "source": [
    "model.invoke(PROMPT)"
   ]
  },
  {
   "cell_type": "code",
   "execution_count": 19,
   "id": "fef19dbf-5ed9-4807-97f3-81cace82b6fe",
   "metadata": {},
   "outputs": [],
   "source": [
    "SYSTEM = SystemMessage(''' You are a helpful assistant equipped with latest information , you will answer use query and end your answer with JAHAPANA. Always''')"
   ]
  },
  {
   "cell_type": "code",
   "execution_count": 20,
   "id": "10a94aa0-7740-4749-91b8-5264007cde41",
   "metadata": {},
   "outputs": [
    {
     "data": {
      "text/plain": [
       "AIMessage(content='The capital of West Bengal is Kolkata. JAHAPANA.', additional_kwargs={}, response_metadata={'token_usage': {'completion_tokens': 18, 'prompt_tokens': 44, 'total_tokens': 62, 'completion_time': 0.026584742, 'prompt_time': 0.005142366, 'queue_time': 0.019643003000000003, 'total_time': 0.031727108}, 'model_name': 'mixtral-8x7b-32768', 'system_fingerprint': 'fp_c5f20b5bb1', 'finish_reason': 'stop', 'logprobs': None}, id='run-3e15966f-7578-470b-a54b-ca5377a767d3-0', usage_metadata={'input_tokens': 44, 'output_tokens': 18, 'total_tokens': 62})"
      ]
     },
     "execution_count": 20,
     "metadata": {},
     "output_type": "execute_result"
    }
   ],
   "source": [
    "model.invoke([SYSTEM, PROMPT])"
   ]
  },
  {
   "cell_type": "markdown",
   "id": "c7687b3c-cc41-4847-82c9-b7957ac7fc55",
   "metadata": {
    "jp-MarkdownHeadingCollapsed": true
   },
   "source": [
    "### Structured Outputs"
   ]
  },
  {
   "cell_type": "code",
   "execution_count": 5,
   "id": "561842b7-c185-41a9-8f91-96c0c533467b",
   "metadata": {},
   "outputs": [],
   "source": [
    "from pydantic import BaseModel, Field\n",
    "class AnswerSchema(BaseModel):\n",
    "    ''' Class defining the structure we want the final response from LLM to be'''\n",
    "    answer: str = Field('Simple, Straight answer to the question asked')\n",
    "    justification : str= Field('Detailed breakdown which supports the answer and make sense to user')"
   ]
  },
  {
   "cell_type": "code",
   "execution_count": 6,
   "id": "e914f427-9b25-40da-812f-7b7503ea24f1",
   "metadata": {},
   "outputs": [
    {
     "data": {
      "text/plain": [
       "AnswerSchema(answer='A pound of bricks and a pound of feathers both weigh the same, which is one pound.', justification='The weight of an object is determined by its mass, and a pound is a unit of mass. Therefore, a pound of any material will always weigh the same.')"
      ]
     },
     "execution_count": 6,
     "metadata": {},
     "output_type": "execute_result"
    }
   ],
   "source": [
    "structured_model = model.with_structured_output(AnswerSchema)\n",
    "structured_model.invoke(\"What weighs more, a pound of bricks or a pound of feathers\")"
   ]
  },
  {
   "cell_type": "markdown",
   "id": "654b051f-9a19-4ec3-a135-21cd359b6ccd",
   "metadata": {
    "jp-MarkdownHeadingCollapsed": true
   },
   "source": [
    "### The Runnable Interface\n",
    "\n",
    "    invoke() takes a single input and returns a single output.\n",
    "\n",
    "    batch() takes a list of outputs and returns a list of outputs.\n",
    "    \n",
    "    stream() takes a single input and returns an iterator of parts of the output as they become available."
   ]
  },
  {
   "cell_type": "markdown",
   "id": "ecc07fa0-31dd-46b4-b733-e51e9c5ef539",
   "metadata": {
    "jp-MarkdownHeadingCollapsed": true
   },
   "source": [
    "#### RunnablePassThrough\n",
    "    Utility designed to streamline data processing workflows by either passing input data unchanged or enhancing it with additional attributes\n",
    "\n",
    "    1. RunnablePassthrough can either pass the input unchanged or append additional keys to it.\n",
    "    2. When RunnablePassthrough() is called on its own, it simply takes the input and passes it as is.\n",
    "    3. When called using RunnablePassthrough.assign(...), it takes the input and adds additional arguments provided to the assign function.\n",
    "\n",
    "    Use Cases\n",
    "\n",
    "    1. Useful when you need to pass data through chain steps without modification\n",
    "    2. Can be combined with other components to build complex data pipelines\n",
    "    3. Particularly helpful when you need to preserve original input while adding new fields"
   ]
  },
  {
   "cell_type": "code",
   "execution_count": 14,
   "id": "7ba39118-1b8c-4788-b64a-ea4bc12c3d10",
   "metadata": {},
   "outputs": [
    {
     "data": {
      "text/plain": [
       "AnswerSchema(answer='90', justification='The result of multiplying 10 by 9')"
      ]
     },
     "execution_count": 14,
     "metadata": {},
     "output_type": "execute_result"
    }
   ],
   "source": [
    "from langchain_core.runnables import RunnablePassthrough, RunnableLambda, RunnableParallel\n",
    "from langchain_core.prompts import PromptTemplate\n",
    "\n",
    "PROMPT_EX = PromptTemplate.from_template(\"What is 10 times {num}\")\n",
    "chain = {'num': RunnablePassthrough()} | RunnableLambda(lambda x : x) | PROMPT_EX | structured_model\n",
    "\n",
    "chain.invoke(9)"
   ]
  },
  {
   "cell_type": "code",
   "execution_count": 15,
   "id": "0219ca30-72a0-4d69-bb96-8ace2b6e4421",
   "metadata": {},
   "outputs": [
    {
     "data": {
      "text/plain": [
       "{'num': 1, 'new_num': 3}"
      ]
     },
     "execution_count": 15,
     "metadata": {},
     "output_type": "execute_result"
    }
   ],
   "source": [
    "(RunnablePassthrough.assign(new_num=lambda x: x[\"num\"] * 3)).invoke({\"num\": 1})"
   ]
  },
  {
   "cell_type": "markdown",
   "id": "de0f1fed-adb1-4a0b-90cd-9a1a5f11c9cb",
   "metadata": {
    "jp-MarkdownHeadingCollapsed": true
   },
   "source": [
    "### RunnableParallel \n",
    "    Utility designed to execute multiple Runnable objects concurrently, streamlining workflows that require parallel processing. \n",
    "    It distributes input data across different components, collects their results, and combines them into a unified output. \n",
    "    This functionality makes it a powerful tool for optimizing workflows where tasks can be performed independently and simultaneously."
   ]
  },
  {
   "cell_type": "code",
   "execution_count": 17,
   "id": "e3e87e39-f3bd-4bf8-ab49-905c923bff6d",
   "metadata": {},
   "outputs": [
    {
     "data": {
      "text/plain": [
       "{'capital': AnswerSchema(answer='The capital of the United States of America is Washington, D.C.', justification='Washington, D.C. is specifically designated as the capital of the United States by the United States Constitution.'),\n",
       " 'area': AnswerSchema(answer='The area of the United States of America is approximately 9.83 million square kilometers.', justification='The United States of America is the third largest country by area, covering a significant portion of the North American continent. Its total area, including both land and water, is approximately 9.83 million square kilometers.')}"
      ]
     },
     "execution_count": 17,
     "metadata": {},
     "output_type": "execute_result"
    }
   ],
   "source": [
    "#Chains can also be applied to RunnableParallel.\n",
    "\n",
    "chain1 = (\n",
    "    {\"country\": RunnablePassthrough()}\n",
    "    | PromptTemplate.from_template(\"What is the capital of {country}?\")\n",
    "    | structured_model\n",
    ")\n",
    "chain2 = (\n",
    "    {\"country\": RunnablePassthrough()}\n",
    "    | PromptTemplate.from_template(\"What is the area of {country}?\")\n",
    "    | structured_model\n",
    ")\n",
    "\n",
    "combined_chain = RunnableParallel(capital=chain1, area=chain2)\n",
    "combined_chain.invoke(\"United States of America\")"
   ]
  },
  {
   "cell_type": "markdown",
   "id": "2d2125b5-1fbe-42c8-9117-3fbdf4b58cd6",
   "metadata": {
    "jp-MarkdownHeadingCollapsed": true
   },
   "source": [
    "### RunnableLambda\n",
    "    RunnableLambda is a flexible utility that allows developers to define custom data transformation logic using lambda functions. \n",
    "    By enabling quick and easy implementation of custom processing workflows, RunnableLambda simplifies the creation of tailored data pipelines \n",
    "    while ensuring minimal setup overhead."
   ]
  },
  {
   "cell_type": "code",
   "execution_count": 22,
   "id": "67e8b263-5151-4b75-8944-a5c1959c28b5",
   "metadata": {},
   "outputs": [
    {
     "data": {
      "text/plain": [
       "'Nov 19'"
      ]
     },
     "execution_count": 22,
     "metadata": {},
     "output_type": "execute_result"
    }
   ],
   "source": [
    "from langchain_core.output_parsers import StrOutputParser\n",
    "from langchain_core.prompts import PromptTemplate\n",
    "from datetime import datetime\n",
    "\n",
    "def get_today(a):\n",
    "    # Get today's date\n",
    "    return 'Nov 19'\n",
    "\n",
    "# Print today's date\n",
    "get_today(None)"
   ]
  },
  {
   "cell_type": "code",
   "execution_count": 25,
   "id": "91057cb4-48da-491d-bce5-920ac4d3a88c",
   "metadata": {},
   "outputs": [],
   "source": [
    "from langchain_core.runnables import RunnableLambda, RunnablePassthrough\n",
    "\n",
    "# Create the prompt and llm\n",
    "prompt = PromptTemplate.from_template(\n",
    "    \"List {n} famous people from India whose birthday is on {today}. Include their date of birth.\"\n",
    ")\n",
    "\n",
    "# Create the chain\n",
    "chain = (\n",
    "    {\"today\": RunnableLambda(get_today), \"n\": RunnablePassthrough()}\n",
    "    | prompt\n",
    "    | model\n",
    "    | StrOutputParser()\n",
    ")"
   ]
  },
  {
   "cell_type": "code",
   "execution_count": 26,
   "id": "8d526b49-4505-4f88-ae8c-f0e02df890fa",
   "metadata": {},
   "outputs": [
    {
     "name": "stdout",
     "output_type": "stream",
     "text": [
      "1. Indira Gandhi: She was the first and, to date, the only female Prime Minister of India. She was born on November 19, 1917. Indira Gandhi served as Prime Minister from 1966 to 1977 and then again from 1980 until her assassination in 1984.\n",
      "\n",
      "2. Prakash Padukone: He is a former Indian badminton player who was ranked World No. 1 in 1980. Born on November 19, 1955, Padukone was the first Indian to win the All England Open Badminton Championships in 1980.\n",
      "\n",
      "3. Sarojini Naidu: She was a prominent Indian independence activist and poet. Sarojini Naidu was born on November 19, 1879, and became the first Indian woman to become the President of the Indian National Congress and the first woman to hold the office of Governor, serving as the Governor of Uttar Pradesh from 1947 to 1949.\n"
     ]
    }
   ],
   "source": [
    "print(chain.invoke(3))"
   ]
  },
  {
   "cell_type": "markdown",
   "id": "7ec8c777-5f7e-42b8-9835-af5f4213db05",
   "metadata": {},
   "source": [
    "### itemgetter\n",
    "    itemgetter is a utility function from Python's operator module with the following features and benefits:\n",
    "    \n",
    "    Core Functionality\n",
    "    \n",
    "    Efficiently extracts values from specific keys or indices in dictionaries, tuples, and lists\n",
    "    Capable of extracting multiple keys or indices simultaneously\n",
    "    Supports functional programming style\n",
    "    Performance Optimization\n",
    "    \n",
    "    More efficient than regular indexing for repetitive key access operations\n",
    "    Optimized memory usage\n",
    "    Performance advantages when processing large datasets\n",
    "    Usage in LangChain\n",
    "    \n",
    "    Data filtering in chain compositions\n",
    "    Selective extraction from complex input structures\n",
    "    Combines with other Runnable objects for data preprocessing"
   ]
  },
  {
   "cell_type": "code",
   "execution_count": 28,
   "id": "3edb82a3-ba94-478e-81ff-6d6023d2b553",
   "metadata": {},
   "outputs": [],
   "source": [
    "from operator import itemgetter\n",
    "\n",
    "from langchain_core.prompts import ChatPromptTemplate\n",
    "from langchain_core.runnables import RunnableLambda\n",
    "\n",
    "\n",
    "\n",
    "# Function that returns the length of a sentence.\n",
    "def length_function(text):\n",
    "    return len(text)\n",
    "\n",
    "\n",
    "# Function that returns the product of the lengths of two sentences.\n",
    "def _multiple_length_function(text1, text2):\n",
    "    return len(text1) * len(text2)\n",
    "\n",
    "\n",
    "# Function that uses _multiple_length_function to return the product of the lengths of two sentences.\n",
    "def multiple_length_function(_dict):\n",
    "    return _multiple_length_function(_dict[\"text1\"], _dict[\"text2\"])\n",
    "\n",
    "\n",
    "prompt = ChatPromptTemplate.from_template(\"What is {a} + {b}?\")\n",
    "\n",
    "chain1 = prompt | model\n",
    "\n",
    "chain = (\n",
    "    {\n",
    "        \"a\": itemgetter(\"word1\") | RunnableLambda(length_function),\n",
    "        \"b\": {\"text1\": itemgetter(\"word1\"), \"text2\": itemgetter(\"word2\")}\n",
    "        | RunnableLambda(multiple_length_function),\n",
    "    }\n",
    "    | prompt\n",
    "    | model\n",
    ")"
   ]
  },
  {
   "cell_type": "code",
   "execution_count": 29,
   "id": "f911c279-4047-4329-99cd-ec96b51e5f0a",
   "metadata": {},
   "outputs": [
    {
     "data": {
      "text/plain": [
       "AIMessage(content='The sum of 5 and 25 is 30. You can calculate this by adding the two numbers together:\\n\\n5 + 25 = 30\\n\\nThis is a basic arithmetic operation called addition. It combines two numbers to produce a third number, which is the sum of the original two numbers. In this case, the sum of 5 and 25 is 30.', additional_kwargs={}, response_metadata={'token_usage': {'completion_tokens': 89, 'prompt_tokens': 16, 'total_tokens': 105, 'completion_time': 0.136137326, 'prompt_time': 0.002681811, 'queue_time': 0.019197168, 'total_time': 0.138819137}, 'model_name': 'mixtral-8x7b-32768', 'system_fingerprint': 'fp_c5f20b5bb1', 'finish_reason': 'stop', 'logprobs': None}, id='run-dcbfa997-5128-4ea9-901c-c75d60c99dc2-0', usage_metadata={'input_tokens': 16, 'output_tokens': 89, 'total_tokens': 105})"
      ]
     },
     "execution_count": 29,
     "metadata": {},
     "output_type": "execute_result"
    }
   ],
   "source": [
    "chain.invoke({\"word1\": \"hello\", \"word2\": \"world\"})"
   ]
  },
  {
   "cell_type": "code",
   "execution_count": null,
   "id": "aad6048f-3433-4001-b762-2d7752372412",
   "metadata": {},
   "outputs": [],
   "source": []
  }
 ],
 "metadata": {
  "kernelspec": {
   "display_name": "Python 3 (ipykernel)",
   "language": "python",
   "name": "python3"
  },
  "language_info": {
   "codemirror_mode": {
    "name": "ipython",
    "version": 3
   },
   "file_extension": ".py",
   "mimetype": "text/x-python",
   "name": "python",
   "nbconvert_exporter": "python",
   "pygments_lexer": "ipython3",
   "version": "3.10.11"
  }
 },
 "nbformat": 4,
 "nbformat_minor": 5
}
