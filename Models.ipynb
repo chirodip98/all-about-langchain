{
 "cells": [
  {
   "cell_type": "markdown",
   "id": "2e9a73a9-9cfa-417b-83e3-7645a76d9ff7",
   "metadata": {},
   "source": [
    "### Caching on LLMs\n",
    "    This is useful for two reasons:\n",
    "    When requesting the same completions multiple times, it can reduce the number of API calls to the LLM provider and thus save costs.\n",
    "    By reduing the number of API calls to the LLM provider, it can improve the running time of the application."
   ]
  },
  {
   "cell_type": "code",
   "execution_count": 2,
   "id": "87bbe93d-e8cd-4412-8862-18b791314eae",
   "metadata": {},
   "outputs": [
    {
     "data": {
      "text/plain": [
       "True"
      ]
     },
     "execution_count": 2,
     "metadata": {},
     "output_type": "execute_result"
    }
   ],
   "source": [
    "import os\n",
    "from dotenv import load_dotenv\n",
    "from langchain_groq.chat_models import ChatGroq\n",
    "load_dotenv()"
   ]
  },
  {
   "cell_type": "code",
   "execution_count": 3,
   "id": "0e021744-787c-4af9-84cc-7ed5fa6a8825",
   "metadata": {},
   "outputs": [],
   "source": [
    "LLM = ChatGroq(name='llama-3.2-1b-preview', api_key = os.environ.get(\"GROQ_API_KEY\"), temperature=0)"
   ]
  },
  {
   "cell_type": "code",
   "execution_count": 5,
   "id": "dfa3d4b6-8153-45bf-ba1b-b07ddc638520",
   "metadata": {},
   "outputs": [],
   "source": [
    "from langchain_core.prompts import PromptTemplate\n",
    "template = ''' summarize about {country} in 250 words'''\n",
    "prompt = PromptTemplate(template = template, input_variables=['country'])"
   ]
  },
  {
   "cell_type": "code",
   "execution_count": 6,
   "id": "aea9eb9a-b9a7-4d29-8104-3808e9c9b26e",
   "metadata": {},
   "outputs": [],
   "source": [
    "simple_chain = prompt | LLM"
   ]
  },
  {
   "cell_type": "code",
   "execution_count": 7,
   "id": "0ea232dd-2e9c-4e22-9889-57a05977265a",
   "metadata": {},
   "outputs": [
    {
     "data": {
      "text/plain": [
       "AIMessage(content=\"India, officially known as the Republic of India, is a country located in South Asia. It is the seventh-largest country by land area and the second-most populous country in the world, with over 1.3 billion people. India shares its borders with several countries, including Pakistan, China, Nepal, Bhutan, Bangladesh, and Myanmar.\\n\\nIndia has a rich and diverse history that dates back thousands of years. It is home to several ancient civilizations, including the Indus Valley Civilization and the Vedic Civilization. India has also been a center of trade and cultural exchange for centuries, with influences from Persia, Greece, China, and Central Asia.\\n\\nIndia's political system is a federal parliamentary democratic republic, with the President as the head of state and the Prime Minister as the head of government. The country is divided into 28 states and 8 union territories, each with its own government.\\n\\nIndia has a mixed economy, with both public and private sectors playing important roles. The country is known for its information technology, telecommunications, and pharmaceutical industries, as well as its textile and handicrafts sectors.\\n\\nIndia is a culturally diverse country, with several languages, religions, and traditions. Hindi and English are the official languages of the central government, but there are 21 other officially recognized regional languages. The majority of Indians practice Hinduism, but there are also significant populations of Muslims, Christians, Sikhs, Buddhists, and Jains.\\n\\nIndia is also home to several UNESCO World Heritage Sites, including the Taj Mahal, the Red Fort, and the Ajanta and Ellora Caves. The country's rich cultural heritage is reflected in its music, dance, literature, and cuisine.\\n\\nDespite its many strengths, India faces several challenges, including poverty, corruption, and environmental degradation. However, the country has made significant progress in recent years, with a growing economy and a rising middle class. India is poised to play an increasingly important role in global affairs in the coming years.\", additional_kwargs={}, response_metadata={'token_usage': {'completion_tokens': 457, 'prompt_tokens': 18, 'total_tokens': 475, 'completion_time': 0.710245774, 'prompt_time': 0.002357099, 'queue_time': 0.017667618, 'total_time': 0.712602873}, 'model_name': 'mixtral-8x7b-32768', 'system_fingerprint': 'fp_c5f20b5bb1', 'finish_reason': 'stop', 'logprobs': None}, id='run-ffe52815-9e0d-453a-8561-d086d4fdf03d-0', usage_metadata={'input_tokens': 18, 'output_tokens': 457, 'total_tokens': 475})"
      ]
     },
     "execution_count": 7,
     "metadata": {},
     "output_type": "execute_result"
    }
   ],
   "source": [
    "simple_chain.invoke('India')"
   ]
  },
  {
   "cell_type": "markdown",
   "id": "139b8ec4-6397-4eb9-9c51-fd8792c89fc1",
   "metadata": {},
   "source": [
    "#### InMemoryCache\n",
    "     If we set InMemoryCache again, the cache will be lost and the wall time will increase."
   ]
  },
  {
   "cell_type": "code",
   "execution_count": 13,
   "id": "47e3e1c3-82fb-4892-b18c-e7bd62a4e9bd",
   "metadata": {},
   "outputs": [],
   "source": [
    "from langchain_core.globals import set_llm_cache\n",
    "from langchain_core.caches import InMemoryCache\n",
    "\n",
    "set_llm_cache(InMemoryCache())"
   ]
  },
  {
   "cell_type": "code",
   "execution_count": 14,
   "id": "e136a7da-bba6-48e0-93d4-5ab15dc1b48e",
   "metadata": {},
   "outputs": [
    {
     "name": "stdout",
     "output_type": "stream",
     "text": [
      "CPU times: total: 15.6 ms\n",
      "Wall time: 1.05 s\n"
     ]
    },
    {
     "data": {
      "text/plain": [
       "\"India, officially known as the Republic of India, is a country located in South Asia. It is the seventh-largest country by land area and the second-most populous country in the world, with over 1.3 billion people. India shares its borders with several countries, including Pakistan, China, Nepal, Bhutan, Bangladesh, and Myanmar.\\n\\nIndia has a rich and diverse history that dates back thousands of years. It is home to several ancient civilizations, including the Indus Valley Civilization and the Vedic Civilization. India has also been a center of trade and cultural exchange for centuries, with influences from Persia, Greece, China, and Central Asia.\\n\\nIndia's political system is a federal parliamentary democratic republic, with the President as the head of state and the Prime Minister as the head of government. The country is divided into 28 states and 8 union territories, each with its own government.\\n\\nIndia has a mixed economy, with both public and private sectors playing important roles. The country is known for its information technology, telecommunications, and pharmaceutical industries, as well as its textile and handicrafts sectors.\\n\\nIndia is a culturally diverse country, with several languages, religions, and traditions. Hindi and English are the official languages of the central government, but there are 21 other officially recognized regional languages. The majority of Indians practice Hinduism, but there are also significant populations of Muslims, Christians, Sikhs, Buddhists, and Jains.\\n\\nIndia is also home to several UNESCO World Heritage Sites, including the Taj Mahal, the Red Fort, and the Ajanta and Ellora Caves. The country's rich cultural heritage is reflected in its music, dance, literature, and cuisine.\\n\\nDespite its many strengths, India faces several challenges, including poverty, corruption, and environmental degradation. However, the country has made significant progress in recent years, with a growing economy and a rising middle class. India is poised to play an increasingly important role in global affairs in the coming years.\""
      ]
     },
     "execution_count": 14,
     "metadata": {},
     "output_type": "execute_result"
    }
   ],
   "source": [
    "%%time\n",
    "response = simple_chain.invoke('India')\n",
    "response.content"
   ]
  },
  {
   "cell_type": "code",
   "execution_count": 16,
   "id": "2b063783-62b5-46e1-99fa-5a7faf6b6687",
   "metadata": {},
   "outputs": [
    {
     "name": "stdout",
     "output_type": "stream",
     "text": [
      "CPU times: total: 0 ns\n",
      "Wall time: 4.65 ms\n"
     ]
    },
    {
     "data": {
      "text/plain": [
       "\"India, officially known as the Republic of India, is a country located in South Asia. It is the seventh-largest country by land area and the second-most populous country in the world, with over 1.3 billion people. India shares its borders with several countries, including Pakistan, China, Nepal, Bhutan, Bangladesh, and Myanmar.\\n\\nIndia has a rich and diverse history that dates back thousands of years. It is home to several ancient civilizations, including the Indus Valley Civilization and the Vedic Civilization. India has also been a center of trade and cultural exchange for centuries, with influences from Persia, Greece, China, and Central Asia.\\n\\nIndia's political system is a federal parliamentary democratic republic, with the President as the head of state and the Prime Minister as the head of government. The country is divided into 28 states and 8 union territories, each with its own government.\\n\\nIndia has a mixed economy, with both public and private sectors playing important roles. The country is known for its information technology, telecommunications, and pharmaceutical industries, as well as its textile and handicrafts sectors.\\n\\nIndia is a culturally diverse country, with several languages, religions, and traditions. Hindi and English are the official languages of the central government, but there are 21 other officially recognized regional languages. The majority of Indians practice Hinduism, but there are also significant populations of Muslims, Christians, Sikhs, Buddhists, and Jains.\\n\\nIndia is also home to several UNESCO World Heritage Sites, including the Taj Mahal, the Red Fort, and the Ajanta and Ellora Caves. The country's rich cultural heritage is reflected in its music, dance, literature, and cuisine.\\n\\nDespite its many strengths, India faces several challenges, including poverty, corruption, and environmental degradation. However, the country has made significant progress in recent years, with a growing economy and a rising middle class. India is poised to play an increasingly important role in global affairs in the coming years.\""
      ]
     },
     "execution_count": 16,
     "metadata": {},
     "output_type": "execute_result"
    }
   ],
   "source": [
    "%%time\n",
    "response = simple_chain.invoke('India')\n",
    "response.content"
   ]
  },
  {
   "cell_type": "markdown",
   "id": "a964c59a-f499-4a4a-a524-9f42c63b5b80",
   "metadata": {},
   "source": [
    "#### SQLiteCache\n",
    "     If we use SQLiteCache, setting caching again does not delete stored cache."
   ]
  },
  {
   "cell_type": "code",
   "execution_count": 17,
   "id": "7380aa45-ab98-4c71-9bfb-fb9a01ffe239",
   "metadata": {},
   "outputs": [],
   "source": [
    "from langchain_community.cache import SQLiteCache\n",
    "\n",
    "if not os.path.exists(\"cache\"):\n",
    "    os.makedirs(\"cache\")\n",
    "set_llm_cache(SQLiteCache(database_path=\"cache/llm_cache.db\"))"
   ]
  },
  {
   "cell_type": "code",
   "execution_count": 18,
   "id": "46b71ab7-765c-4eb3-9500-578b2e85e180",
   "metadata": {},
   "outputs": [
    {
     "name": "stdout",
     "output_type": "stream",
     "text": [
      "South Korea, officially known as the Republic of Korea, is a country located in East Asia. It is situated on the southern half of the Korean Peninsula and shares a border with North Korea to the north. South Korea is a democratic republic with a population of approximately 51 million people and a land area of about 100,000 square kilometers.\n",
      "\n",
      "The capital and largest city of South Korea is Seoul, which is a major global hub for business, finance, and culture. Other major cities in South Korea include Busan, Incheon, Daegu, and Gwangju.\n",
      "\n",
      "South Korea has a highly developed economy, with a GDP of over $1.6 trillion in 2020. It is known for its advanced technology and electronics industries, as well as its automotive, shipbuilding, and chemical industries. South Korea is also a major exporter of goods such as semiconductors, automobiles, and steel.\n",
      "\n",
      "South Korea has a rich cultural heritage, with a history that dates back thousands of years. It is known for its traditional arts, music, and literature, as well as its modern pop culture, including K-pop music and Korean dramas. South Korea is also home to a number of UNESCO World Heritage Sites, including the historic city of Gyeongju and the ancient temples of Haeinsa.\n",
      "\n",
      "South Korea is a member of a number of international organizations, including the United Nations, the World Trade Organization, and the Organization for Economic Cooperation and Development. It is also a close ally of the United States and has a strong military presence, with mandatory military service for all able-bodied men.\n",
      "\n",
      "Overall, South Korea is a dynamic and prosperous country with a rich cultural heritage and a strong economy. It is a major player on the global stage and continues to make significant contributions to the world in a variety of fields.\n",
      "CPU times: total: 31.2 ms\n",
      "Wall time: 1.07 s\n"
     ]
    }
   ],
   "source": [
    "%%time\n",
    "# Invoke chain\n",
    "response = simple_chain.invoke({\"country\": \"South Korea\"})\n",
    "print(response.content)"
   ]
  },
  {
   "cell_type": "code",
   "execution_count": 19,
   "id": "1390e708-9c6d-4500-a9cf-ba27135ea44e",
   "metadata": {},
   "outputs": [
    {
     "name": "stdout",
     "output_type": "stream",
     "text": [
      "South Korea, officially known as the Republic of Korea, is a country located in East Asia. It is situated on the southern half of the Korean Peninsula and shares a border with North Korea to the north. South Korea is a democratic republic with a population of approximately 51 million people and a land area of about 100,000 square kilometers.\n",
      "\n",
      "The capital and largest city of South Korea is Seoul, which is a major global hub for business, finance, and culture. Other major cities in South Korea include Busan, Incheon, Daegu, and Gwangju.\n",
      "\n",
      "South Korea has a highly developed economy, with a GDP of over $1.6 trillion in 2020. It is known for its advanced technology and electronics industries, as well as its automotive, shipbuilding, and chemical industries. South Korea is also a major exporter of goods such as semiconductors, automobiles, and steel.\n",
      "\n",
      "South Korea has a rich cultural heritage, with a history that dates back thousands of years. It is known for its traditional arts, music, and literature, as well as its modern pop culture, including K-pop music and Korean dramas. South Korea is also home to a number of UNESCO World Heritage Sites, including the historic city of Gyeongju and the ancient temples of Haeinsa.\n",
      "\n",
      "South Korea is a member of a number of international organizations, including the United Nations, the World Trade Organization, and the Organization for Economic Cooperation and Development. It is also a close ally of the United States and has a strong military presence, with mandatory military service for all able-bodied men.\n",
      "\n",
      "Overall, South Korea is a dynamic and prosperous country with a rich cultural heritage and a strong economy. It is a major player on the global stage and continues to make significant contributions to the world in a variety of fields.\n",
      "CPU times: total: 0 ns\n",
      "Wall time: 7 ms\n"
     ]
    }
   ],
   "source": [
    "%%time\n",
    "# Invoke chain\n",
    "response = simple_chain.invoke({\"country\": \"South Korea\"})\n",
    "print(response.content)"
   ]
  },
  {
   "cell_type": "code",
   "execution_count": null,
   "id": "3a50f505-28db-42e6-98e0-6ad53e84ccf7",
   "metadata": {},
   "outputs": [],
   "source": []
  }
 ],
 "metadata": {
  "kernelspec": {
   "display_name": "Python 3 (ipykernel)",
   "language": "python",
   "name": "python3"
  },
  "language_info": {
   "codemirror_mode": {
    "name": "ipython",
    "version": 3
   },
   "file_extension": ".py",
   "mimetype": "text/x-python",
   "name": "python",
   "nbconvert_exporter": "python",
   "pygments_lexer": "ipython3",
   "version": "3.10.11"
  }
 },
 "nbformat": 4,
 "nbformat_minor": 5
}
