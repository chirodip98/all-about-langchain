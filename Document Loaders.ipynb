{
 "cells": [
  {
   "cell_type": "code",
   "execution_count": 1,
   "id": "dfaf8528-a244-4e35-bced-0c9d01e803d6",
   "metadata": {},
   "outputs": [
    {
     "data": {
      "text/plain": [
       "True"
      ]
     },
     "execution_count": 1,
     "metadata": {},
     "output_type": "execute_result"
    }
   ],
   "source": [
    "import os\n",
    "from dotenv import load_dotenv\n",
    "\n",
    "load_dotenv(override = True)"
   ]
  },
  {
   "cell_type": "markdown",
   "id": "fdee1b58-d32e-4338-9876-912352d86c22",
   "metadata": {},
   "source": [
    "### Document\n",
    "    Class for storing a piece of text and its associated metadata.\n",
    "\n",
    "    page_content (Required): Stores a piece of text as a string.\n",
    "    metadata (Optional): Stores metadata related to page_content as a dictionary."
   ]
  },
  {
   "cell_type": "code",
   "execution_count": 2,
   "id": "759a6084-83ec-4ddc-aa65-dcdc1722f234",
   "metadata": {},
   "outputs": [],
   "source": [
    "from langchain_core.documents import Document\n",
    "document_example = Document(page_content='''This is a sample example of how Document is composed in Langchain''', metadata={'source' :'Chirodip'})"
   ]
  },
  {
   "cell_type": "code",
   "execution_count": 3,
   "id": "f174fe4b-1211-4f3b-839c-6eea564879b9",
   "metadata": {},
   "outputs": [
    {
     "data": {
      "text/plain": [
       "{'id': None,\n",
       " 'metadata': {'source': 'Chirodip'},\n",
       " 'page_content': 'This is a sample example of how Document is composed in Langchain',\n",
       " 'type': 'Document'}"
      ]
     },
     "execution_count": 3,
     "metadata": {},
     "output_type": "execute_result"
    }
   ],
   "source": [
    "document_example.__dict__"
   ]
  },
  {
   "cell_type": "code",
   "execution_count": 4,
   "id": "479aa44f-3fb8-46bf-9f1c-8167dc77f4a6",
   "metadata": {},
   "outputs": [],
   "source": [
    "PDF_PATH = \"./data/PDF_SAMPLE.pdf\""
   ]
  },
  {
   "cell_type": "code",
   "execution_count": 6,
   "id": "8f869207-8d6d-4751-998c-5e45ad17e5cd",
   "metadata": {},
   "outputs": [],
   "source": [
    "from langchain_community.document_loaders import PyPDFLoader\n",
    "docs = PyPDFLoader(PDF_PATH)"
   ]
  },
  {
   "cell_type": "code",
   "execution_count": 7,
   "id": "adf25bdd-4ebc-4d59-a023-9c790ee940dd",
   "metadata": {},
   "outputs": [],
   "source": [
    "docs_loaded = docs.load()"
   ]
  },
  {
   "cell_type": "code",
   "execution_count": 8,
   "id": "2dc67617-5434-4460-8863-25f22440ae95",
   "metadata": {},
   "outputs": [
    {
     "data": {
      "text/plain": [
       "48"
      ]
     },
     "execution_count": 8,
     "metadata": {},
     "output_type": "execute_result"
    }
   ],
   "source": [
    "len(docs_loaded)"
   ]
  },
  {
   "cell_type": "code",
   "execution_count": 10,
   "id": "0ee66dea-0e7e-4836-9f03-adf588c0d5b7",
   "metadata": {},
   "outputs": [
    {
     "data": {
      "text/plain": [
       "[Document(metadata={'source': './data/PDF_SAMPLE.pdf', 'page': 0}, page_content=' \\n \\n \\nOctober 2016 \\n \\n \\n \\n \\n \\n \\n \\n \\n \\nTHE NATIONAL  \\nARTIFICIAL INTELLIGENCE \\nRESEARCH AND DEVELOPMENT \\nSTRATEGIC PLAN  \\nNational Science and Technology Council \\n \\nNetworking and Information Technology \\nResearch and Development Subcommittee \\n '),\n",
       " Document(metadata={'source': './data/PDF_SAMPLE.pdf', 'page': 1}, page_content=' ii \\n \\n '),\n",
       " Document(metadata={'source': './data/PDF_SAMPLE.pdf', 'page': 2}, page_content=' \\n  \\n iii \\nAbout the National Science and Technology Council \\nThe National Science and Technology Council (NSTC) is the principal means by which the Executive \\nBranch coordinates science and technology policy across the diverse entities that make up the Federal \\nresearch and development (R&D) enterprise . One of the NSTC’s primary objectives is establishing clear \\nnational goals for Federal science and technology investments . The NSTC prepares R&D packages aimed \\nat accomplishing multiple national goals . The NSTC’s work is organized under five committees: \\nEnvironment, Natural Resources, and Sustainability; Homeland and National S ecurity; Science, \\nTechnology, Engineering, and Mathematics (STEM) Education; Science; and Technology . Each of these \\ncommittees oversees subcommittees and working groups that are focused on different aspects of \\nscience and technology. More information is available at www.whitehouse.gov/ostp/nstc. \\nAbout the Office of Science and Technology Policy \\nThe Office of Science and Technology Policy (OSTP) was established by the National Science and \\nTechnology Policy, Organization, and Priorities Act of 1976 . The mission of OSTP is threefold; first, to \\nprovide the President and his senior staff with accurate, relevant, and timely scientific and technical advice \\non all matters of consequence; second, to ensure that the policies of the Executive Branch are informed by \\nsound science; and third, to ensure that the scientific and technical work of the Executive Branch is \\nproperly coordinated so as to provide the greatest benefit to society. The Director of OSTP also serves as \\nAssistant to the President for Science and Technology and manages the NSTC . More information is \\navailable at www.whitehouse.gov/ostp. \\nAbout the Subcommittee on Networking and Information Technology  Research and \\nDevelopment \\nThe Subcommittee on Networking and Information Technology Research and Development (NITRD) is a \\nbody under the Committee on Technology (CoT ) of the National Science and Technology Council (NSTC). \\nThe NITRD Subcommittee coordinates multiagency research and development programs to help assure \\ncontinued U.S. leadership in networking and information technology, satisfy the needs of the Federal \\nGovernment for advanced networking and information technology, and accelerate development and \\ndeployment of advanced networking and information technology. It also implements relevant provisions \\nof the High -Performance Computing Act of 1991 (P.L. 102 -194), a s amended by the Next Generation \\nInternet Research Act of 1998 (P. L. 105 -305), and the America Creating Opportunities to Meaningfully \\nPromote Excellence in Technology, Education and Science (COMPETES) Act of 2007 (P.L. 110 -69). For \\nmore information, see www.nitrd.gov. \\nAcknowledgments \\nThis document was developed through the contributions of the members and staff of the NITRD Task \\nForce on Artificial Intelligence. A special thanks and appreciation to additional contributors who helped \\nwrite, edit, and review the document: Chaitan Baru (NSF), Eric Daimler (Presidential Innovation Fellow), \\nRonald Ferguson (DoD), Nancy Forbes (NITRD), Eric Harder (DHS), Erin Kenneally (DHS), Dai Kim (DoD), \\nTatiana Korelsky (NSF), David Kuehn (DOT), Terence Langendoen (NSF), Peter Lyster (NITRD), KC Morris \\n(NIST), Hector Munoz-Avila (NSF), Thomas Rindflesch (NIH), Craig Schlenoff (NIST), Donald Sofge (NRL), \\nand Sylvia Spengler (NSF). \\n  '),\n",
       " Document(metadata={'source': './data/PDF_SAMPLE.pdf', 'page': 3}, page_content=' \\n  \\n iv \\nCopyright Information \\nThis is a work of the U.S. Government and is in the public domain. It may be freely distributed, copied, \\nand translated; acknowledgment of publication by the Office of Science and Technology Policy is \\nappreciated. Any translation should include a disclaimer that the accuracy of the translation is the \\nresponsibility of the translator and not OSTP. It is requested that a copy of any translation be sent to \\nOSTP. This work is available for worldwide use and reuse and under the Creative Commons CC0 1.0 \\nUniversal license. \\n  '),\n",
       " Document(metadata={'source': './data/PDF_SAMPLE.pdf', 'page': 4}, page_content=''),\n",
       " Document(metadata={'source': './data/PDF_SAMPLE.pdf', 'page': 5}, page_content=' \\n  \\n vi \\n \\n  '),\n",
       " Document(metadata={'source': './data/PDF_SAMPLE.pdf', 'page': 6}, page_content=' \\n  \\n vii \\nNational Science and Technology Council \\nChair \\nJohn P. Holdren \\nAssistant to the President for Science and \\nTechnology and Director, Office of Science and \\nTechnology Policy\\nStaff \\nAfua Bruce \\nExecutive Director \\nOffice of Science and Technology Policy \\nSubcommittee on  \\nMachine Learning and Artificial Intelligence  \\nCo-Chair \\nEd Felten \\nDeputy U.S. Chief Technology Officer \\nOffice of Science and Technology Policy  \\n \\nCo-Chair  \\nMichael Garris \\nSenior Scientist \\nNational Institute of Standards and Technology \\nU.S. Department of Commerce \\nSubcommittee on  \\nNetworking and Information Technology Research and Development  \\nCo-Chair \\nBryan Biegel \\nDirector, National Coordination Office for \\nNetworking and Information Technology \\nResearch and Development \\nCo-Chair  \\nJames Kurose \\nAssistant Director, Computer and Information \\nScience and Engineering \\nNational Science Foundation \\nNetworking and Information Technology Research and Development  \\nTask Force on Artificial Intelligence \\n \\nCo-Chair \\nLynne Parker \\nDivision Director \\nInformation and Intelligent Systems \\nNational Science Foundation \\nCo-Chair \\nJason Matheny \\nDirector \\nIntelligence Advanced Research Projects Activity  \\n \\nMembers  \\nMilton Corn \\nNational Institutes of Health \\n \\nNikunj Oza \\nNational Aeronautics and Space Administration \\nWilliam Ford \\nNational Institute of Justice \\nRobinson Pino \\nDepartment of Energy \\nMichael Garris \\nNational Institute of Standards and Technology \\nGregory Shannon \\nOffice of Science and Technology Policy \\nSteven Knox \\nNational Security Agency \\nScott Tousley \\nDepartment of Homeland Security '),\n",
       " Document(metadata={'source': './data/PDF_SAMPLE.pdf', 'page': 7}, page_content=' \\nviii \\n \\nJohn Launchbury \\nDefense Advanced Research Projects Agency \\nFaisal D’Souza \\nTechnical Coordinator \\nNational Coordination Office for Networking and \\nInformation Technology Research and Development Richard Linderman \\nOffice of the Secretary of Defense \\n '),\n",
       " Document(metadata={'source': './data/PDF_SAMPLE.pdf', 'page': 8}, page_content='NATIONAL ARTIFICIAL INTELLIGENCE RESEARCH AND DEVELOPMENT STRATEGIC PLAN \\n \\n 1 \\nContents \\nAbout the National Science and Technology Council .......................................................................................... iii \\nAbout the Office of Science and Technology Policy ............................................................................................ iii \\nAbout the Subcommittee on Networking and Information Technology Research and Development ................ iii \\nAcknowledgments ............................................................................................................................................... iii \\nCopyright Information ..........................................................................................................................................iv \\nNational Science and Technology Council ........................................................................................................... vii \\nSubcommittee on Machine Learning and Artificial Intelligence .......................................................................... vii \\nSubcommittee on Networking and Information Technology Research and Development ................................. vii \\nTask Force on Artificial Intelligence ..................................................................................................................... vii \\nExecutive Summary ................................................................................................................................................... 3 \\nIntroduction ............................................................................................................................................................... 5 \\nPurpose of the National AI R&D Strategic Plan ................................................................................................ 5 \\nDesired Outcome ............................................................................................................................................. 7 \\nA Vision for Advancing our National Priorities with AI  .................................................................................... 8 \\nCurrent State of AI.......................................................................................................................................... 12 \\nR&D Strategy ........................................................................................................................................................... 15 \\nStrategy 1: Make Long-Term Investments in AI Research ............................................................................. 16 \\nStrategy 2: Develop Effective Methods for Human-AI Collaboration  ........................................................... 22 \\nStrategy 3: Understand and Address the Ethical, Legal, and Societal Implications of AI ............................... 26 \\nStrategy 4: Ensure the Safety and Security of AI Systems .............................................................................. 27 \\nStrategy 5: Develop Shared Public Datasets and Environments for AI Training and Testing ......................... 30 \\nStrategy 6: Measure and Evaluate AI Technologies through Standards and Benchmarks............................. 32 \\nStrategy 7: Better Understand the National AI R&D Workforce Needs ......................................................... 35 \\nRecommendations ................................................................................................................................................... 37 \\nAcronyms ................................................................................................................................................................. 39 '),\n",
       " Document(metadata={'source': './data/PDF_SAMPLE.pdf', 'page': 9}, page_content='NATIONAL ARTIFICIAL INTELLIGENCE RESEARCH AND DEVELOPMENT STRATEGIC PLAN \\n \\n 2 \\n  ')]"
      ]
     },
     "execution_count": 10,
     "metadata": {},
     "output_type": "execute_result"
    }
   ],
   "source": [
    "docs_loaded[0:10]"
   ]
  },
  {
   "cell_type": "code",
   "execution_count": 11,
   "id": "f66ef08a-ba6d-466b-8659-274556c81c06",
   "metadata": {},
   "outputs": [],
   "source": [
    "from langchain_text_splitters import RecursiveCharacterTextSplitter\n",
    "\n",
    "# Set up the TextSplitter\n",
    "text_splitter = RecursiveCharacterTextSplitter(chunk_size=128, chunk_overlap=0)\n",
    "\n",
    "# Split Documents into chunks\n",
    "docs_loaded_splitted = docs.load_and_split(text_splitter=text_splitter)"
   ]
  },
  {
   "cell_type": "code",
   "execution_count": 13,
   "id": "e1cddf3d-7200-4012-a16a-08887b1c9c76",
   "metadata": {},
   "outputs": [
    {
     "data": {
      "text/plain": [
       "1430"
      ]
     },
     "execution_count": 13,
     "metadata": {},
     "output_type": "execute_result"
    }
   ],
   "source": [
    "len(docs_loaded_splitted)"
   ]
  },
  {
   "cell_type": "code",
   "execution_count": null,
   "id": "e9140d53-49c3-4065-8879-9fe43d8c9bb4",
   "metadata": {},
   "outputs": [],
   "source": []
  }
 ],
 "metadata": {
  "kernelspec": {
   "display_name": "Python 3 (ipykernel)",
   "language": "python",
   "name": "python3"
  },
  "language_info": {
   "codemirror_mode": {
    "name": "ipython",
    "version": 3
   },
   "file_extension": ".py",
   "mimetype": "text/x-python",
   "name": "python",
   "nbconvert_exporter": "python",
   "pygments_lexer": "ipython3",
   "version": "3.10.11"
  }
 },
 "nbformat": 4,
 "nbformat_minor": 5
}
